{
 "cells": [
  {
   "cell_type": "code",
   "execution_count": 8,
   "id": "799446a4",
   "metadata": {},
   "outputs": [],
   "source": [
    "import os\n",
    "import pickle\n",
    "import ipywidgets as widgets\n",
    "from dotenv import load_dotenv\n",
    "from IPython.display import display, Markdown\n",
    "from langchain_openai import OpenAIEmbeddings\n",
    "from langchain_openai import ChatOpenAI\n",
    "from langchain.chains.qa_with_sources import load_qa_with_sources_chain"
   ]
  },
  {
   "cell_type": "code",
   "execution_count": null,
   "id": "af133da4",
   "metadata": {},
   "outputs": [],
   "source": [
    "load_dotenv()\n",
    "openai_key = os.getenv(\"\")"
   ]
  },
  {
   "cell_type": "code",
   "execution_count": 11,
   "id": "7c6aacbd",
   "metadata": {},
   "outputs": [],
   "source": [
    "embedding_model = OpenAIEmbeddings()\n",
    "chat = ChatOpenAI(temperature=0, openai_api_key=openai_key)"
   ]
  },
  {
   "cell_type": "code",
   "execution_count": 12,
   "id": "2a805537",
   "metadata": {},
   "outputs": [
    {
     "data": {
      "text/plain": [
       "'gpt-3.5-turbo'"
      ]
     },
     "execution_count": 12,
     "metadata": {},
     "output_type": "execute_result"
    }
   ],
   "source": [
    "chat.model_name"
   ]
  },
  {
   "cell_type": "code",
   "execution_count": 14,
   "id": "2c028075",
   "metadata": {},
   "outputs": [],
   "source": [
    "with open(\"vectorstore.pkl\", \"rb\") as f:\n",
    "    index, texts, metadata = pickle.load(f)"
   ]
  },
  {
   "cell_type": "code",
   "execution_count": 17,
   "id": "c654b3cf",
   "metadata": {},
   "outputs": [
    {
     "data": {
      "application/vnd.jupyter.widget-view+json": {
       "model_id": "c944b0e61289457a9825e704fd069314",
       "version_major": 2,
       "version_minor": 0
      },
      "text/plain": [
       "Text(value='', placeholder='Ask me anything about Mariam...')"
      ]
     },
     "metadata": {},
     "output_type": "display_data"
    },
    {
     "data": {
      "application/vnd.jupyter.widget-view+json": {
       "model_id": "f83bafb1acd842538f743a608022b4ef",
       "version_major": 2,
       "version_minor": 0
      },
      "text/plain": [
       "Output()"
      ]
     },
     "metadata": {},
     "output_type": "display_data"
    }
   ],
   "source": [
    "qa_chain = load_qa_with_sources_chain(chat, chain_type=\"stuff\")\n",
    "\n",
    "query_box = widgets.Text(placeholder='Ask me anything about Mariam...')\n",
    "output_box = widgets.Output()\n",
    "\n",
    "@output_box.capture()\n",
    "def handle_query(change):\n",
    "    query = change[\"new\"]\n",
    "    if not query:\n",
    "        return\n",
    "    query_embedding = embedding_model.embed_query(query)\n",
    "    D, I = index.search([query_embedding], k=4)\n",
    "    source_texts = [texts[i] for i in I[0]]\n",
    "    response = qa_chain({\"input_documents\": source_texts, \"question\": query}, return_only_outputs=True)\n",
    "\n",
    "    output_box.clear_output()\n",
    "    display(Markdown(f\"### **Answer**\\n{response['output_text']}\"))\n",
    "    display(Markdown(\"### **Sources**\"))\n",
    "    for i in I[0]:\n",
    "        snippet = texts[i][:300].replace(\"\\n\", \" \")\n",
    "        display(Markdown(f\"**{metadata[i]['source']}**\\n> {snippet}...\"))\n",
    "\n",
    "query_box.observe(handle_query, names='value')\n",
    "display(query_box, output_box)"
   ]
  }
 ],
 "metadata": {
  "kernelspec": {
   "display_name": "venv",
   "language": "python",
   "name": "python3"
  },
  "language_info": {
   "codemirror_mode": {
    "name": "ipython",
    "version": 3
   },
   "file_extension": ".py",
   "mimetype": "text/x-python",
   "name": "python",
   "nbconvert_exporter": "python",
   "pygments_lexer": "ipython3",
   "version": "3.11.9"
  }
 },
 "nbformat": 4,
 "nbformat_minor": 5
}
